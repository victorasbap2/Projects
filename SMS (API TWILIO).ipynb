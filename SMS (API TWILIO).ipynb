{
 "cells": [
  {
   "cell_type": "markdown",
   "id": "8cfb0b2e",
   "metadata": {},
   "source": [
    "# 💬 TESTE PARA ENVIO DE SMS COM API TWILIO "
   ]
  },
  {
   "cell_type": "code",
   "execution_count": 1,
   "id": "f8cfcf72",
   "metadata": {},
   "outputs": [],
   "source": [
    "import os"
   ]
  },
  {
   "cell_type": "code",
   "execution_count": 3,
   "id": "bb061470",
   "metadata": {},
   "outputs": [
    {
     "name": "stdout",
     "output_type": "stream",
     "text": [
      "Collecting twilio\n",
      "  Downloading twilio-7.16.0-py2.py3-none-any.whl (1.4 MB)\n",
      "     ---------------------------------------- 1.4/1.4 MB 1.2 MB/s eta 0:00:00\n",
      "Requirement already satisfied: requests>=2.0.0 in c:\\users\\e109513\\anaconda3\\lib\\site-packages (from twilio) (2.28.1)\n",
      "Requirement already satisfied: PyJWT<3.0.0,>=2.0.0 in c:\\users\\e109513\\anaconda3\\lib\\site-packages (from twilio) (2.4.0)\n",
      "Requirement already satisfied: pytz in c:\\users\\e109513\\anaconda3\\lib\\site-packages (from twilio) (2022.1)\n",
      "Requirement already satisfied: charset-normalizer<3,>=2 in c:\\users\\e109513\\anaconda3\\lib\\site-packages (from requests>=2.0.0->twilio) (2.0.4)\n",
      "Requirement already satisfied: idna<4,>=2.5 in c:\\users\\e109513\\anaconda3\\lib\\site-packages (from requests>=2.0.0->twilio) (3.3)\n",
      "Requirement already satisfied: certifi>=2017.4.17 in c:\\users\\e109513\\anaconda3\\lib\\site-packages (from requests>=2.0.0->twilio) (2022.9.14)\n",
      "Requirement already satisfied: urllib3<1.27,>=1.21.1 in c:\\users\\e109513\\anaconda3\\lib\\site-packages (from requests>=2.0.0->twilio) (1.26.11)\n",
      "Installing collected packages: twilio\n",
      "Successfully installed twilio-7.16.0\n"
     ]
    }
   ],
   "source": [
    "!pip install twilio"
   ]
  },
  {
   "cell_type": "code",
   "execution_count": 4,
   "id": "4eadbe25",
   "metadata": {},
   "outputs": [],
   "source": [
    "from twilio.rest import Client"
   ]
  },
  {
   "cell_type": "code",
   "execution_count": 6,
   "id": "555b0b43",
   "metadata": {},
   "outputs": [],
   "source": [
    "account_sid = \"AC1335462d196114ea7df5e2529ab2be07\"\n",
    "auth_token = \"os.environ[\"TWILIO_AUTH_TOKEN\"]\""
   ]
  },
  {
   "cell_type": "code",
   "execution_count": 7,
   "id": "4446ff87",
   "metadata": {},
   "outputs": [],
   "source": [
    "client = Client(account_sid, auth_token)"
   ]
  },
  {
   "cell_type": "code",
   "execution_count": 8,
   "id": "d390dc4b",
   "metadata": {},
   "outputs": [
    {
     "data": {
      "text/plain": [
       "<Twilio.Api.V2010.MessageInstance account_sid=AC1335462d196114ea7df5e2529ab2be07 sid=SM30acb47d8f864c3d75920f211eae4b0a>"
      ]
     },
     "execution_count": 8,
     "metadata": {},
     "output_type": "execute_result"
    }
   ],
   "source": [
    "client.messages.create(from_=\"+12056516179\",\n",
    "                       to= os.environ.get('CELL_PHONE_NUMBER'),\n",
    "                       body='ATENCAO: MENSAGEM DE EVACUACAO - Com base no sistema SAFE SLOPES, notamos que a regiao em que sua residencia se localiza esta em uma area de risco de iminente deslizamento. Alertamos para que se retire da area imediatamente para evacuacao. Agradecemos sua compreensao!')"
   ]
  }
 ],
 "metadata": {
  "kernelspec": {
   "display_name": "Python 3 (ipykernel)",
   "language": "python",
   "name": "python3"
  },
  "language_info": {
   "codemirror_mode": {
    "name": "ipython",
    "version": 3
   },
   "file_extension": ".py",
   "mimetype": "text/x-python",
   "name": "python",
   "nbconvert_exporter": "python",
   "pygments_lexer": "ipython3",
   "version": "3.9.13"
  }
 },
 "nbformat": 4,
 "nbformat_minor": 5
}
